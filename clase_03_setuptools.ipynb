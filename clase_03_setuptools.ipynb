{
 "cells": [
  {
   "cell_type": "markdown",
   "metadata": {},
   "source": [
    "# 1. Setuptools: Como crear y distribuir tus propios paquetes\n",
    "\n",
    "- TODO img paquetes\n",
    "\n",
    "## 1.1. Introducción\n",
    "¿Cómo se crea un paquete personalizado en Python?  \n",
    "¿Cómo podemos compartirlo junto con sus dependencias?  \n",
    "¿Se puede instalar un paquete con pip desde un repositorio de Git?  \n",
    "\n",
    "En esta sección vamos a aprender a:\n",
    "- Entender los requerimientos de un paquete de Python.\n",
    "- Construir un paquete desde cero o transformar un proyecto existente en un paquete.\n",
    "- Hacer el paquete instalable con pip desde un repositorio.\n",
    "- Actualizar un paquete.\n",
    "\n",
    "## 1.2. Empaquetando el código\n",
    "- TODO img paquetes  \n",
    "Supongamos que tenemos una serie de funciones utilitarias que queremos compartir con nuestro equipo o con la comunidad. Lo primero que vamos a hacer es crear un paquete con ellas. Éste paso es necesario si queremos usar `pip` para la instalación.\n",
    "Vamos a tomar como ejemplo una serie de funciones genéricas que se encuentran alojadas en el archivo `functions.py`"
   ]
  },
  {
   "cell_type": "code",
   "execution_count": 4,
   "metadata": {},
   "outputs": [
    {
     "name": "stdout",
     "output_type": "stream",
     "text": [
      "# No usamos este paquete pero igual lo importamos para generar una dependencia.\n",
      "import requests\n",
      "\n",
      "def saludar_comunidad():\n",
      "\tprint('Hola comunidad de Humai')\n",
      "\n",
      "def informar_clase():\n",
      "\tprint('La siguiente clase es el lunes')"
     ]
    }
   ],
   "source": [
    "!cat functions.py"
   ]
  },
  {
   "cell_type": "markdown",
   "metadata": {},
   "source": [
    "1- Creamos una carpeta con el nombre que vamos a ponerle a nuestro paquete, en este caso se va a llamar `humai_utils` Le agregamos una serie de archivos al mismo:\n",
    "- `humai_utils/functions.py` En este archivo se van a guardar las funciones que queremos compartir, en este caso contiene dos: `saludar_comunidad()` e `informar_clase()`\n",
    "- `humai_utils/__init__.py` Esto le indica a Python que la carpeta `humai_utils` es un paquete, este archivo también nos habilita a importar funciones de la forma `import saludar_comunidad from humai_utils` ademas de `from humai_utils.functions import saludar_comunidad` Crear este archivo es requerido pero el contenido es opcional, puede estar vacío."
   ]
  },
  {
   "cell_type": "markdown",
   "metadata": {},
   "source": [
    "2- En la raiz del proyecto creamos un archivo con el nombre `setup.py` Éste es su contenido:"
   ]
  },
  {
   "cell_type": "code",
   "execution_count": 8,
   "metadata": {},
   "outputs": [
    {
     "name": "stdout",
     "output_type": "stream",
     "text": [
      "import setuptools\n",
      "\n",
      "with open(\"DESCRIPTION.md\", \"r\", encoding=\"utf-8\") as fh:\n",
      "    long_description = fh.read()\n",
      "\n",
      "setuptools.setup(\n",
      "    name='humai_utils',\n",
      "    version='0.1.0',\n",
      "    author='Ramiro Savoie',\n",
      "    author_email='ramiro@deployr.ai',\n",
      "    description='A compilation of Humai utility functions',\n",
      "    long_description=long_description,\n",
      "    long_description_content_type=\"text/markdown\",\n",
      "    url='https://github.com/institutohumai/humai_utils',\n",
      "    project_urls = {\n",
      "        \"Bug Tracker\": \"https://github.com/institutohumai/humai_utils/issues\"\n",
      "    },\n",
      "    license='MIT',\n",
      "    packages=['humai_utils'],\n",
      "    install_requires=['requests'],\n",
      ")"
     ]
    }
   ],
   "source": [
    "!cat setup.py"
   ]
  },
  {
   "cell_type": "markdown",
   "metadata": {},
   "source": [
    "Este archivo le indica a `pip` que necesita nuestro paquete para poder ser instalado. Analicémoslo línea por línea:  \n",
    "- En la primera linea importamos `setuptools`, que es el paquete que permite generar otros paquetes.\n",
    "- A continuación con `with` se abre un archivo con una descripción detallada de lo que hace nuestro paquete y la carga en una variable, la cual se usa más abajo.\n",
    "- La función `.setup()` del paquete `setuptools` recibe varios parametros que describen nuestro paquete:\n",
    "- Parámetro `name`: Le da nombre al paquete y debe coincidir con el nombre de la carpeta.\n",
    "- Parámetro `version`: Número de versión del paquete, `pip` lo usa para saber si el paquete instalado debe ser actualizado. Hay que incrementarlo si queremos que los usuarios actualicen.\n",
    "- Parámetro `long_description`: aquí utilizamos el contenido del archivo abierto previamente.\n",
    "- Parámetro `long_description_content_type`: Indica el formato de la descripción detallada, en este caso Markdown.\n",
    "- Parámetro `url`: La URL del repositorio de código del paquete.\n",
    "- Parámetro `project_urls`: Otros links de referencia del proyecto, como por ejemplo, en donde reportar bugs.\n",
    "- Parámetro `license`: Licencia con la cual se puede usar y distribuir el paquete, en este caso, MIT. Algunos otros ejemplos pueden encontrarse en choosealicense.com\n",
    "- Parámetro `packages`: Lista de todos los paquetes a construir, debe coincidir con el nombre de carpeta del paquete.\n",
    "- Parámetro `install_requires`: Listado de dependencias sobre las que construimos nuestro paquete. `pip` las va a instalar antes para que nuestro paquete pueda usarlas."
   ]
  },
  {
   "cell_type": "markdown",
   "metadata": {},
   "source": [
    "3- Agregamos el archivo `DESCRIPTION.md` con la descripcion completa del paquete y podría agregarse un archivo LICENSE con la licencia elegida. Son simplemente archivos de texto que no son siempre requeridos. "
   ]
  },
  {
   "cell_type": "code",
   "execution_count": 9,
   "metadata": {},
   "outputs": [
    {
     "name": "stdout",
     "output_type": "stream",
     "text": [
      "# Humai Utils\n",
      "\n",
      "Este es un paquete con muchas funciones comunes que encontramos en nuestros proyectos y que queremos compartir con la comunidad."
     ]
    }
   ],
   "source": [
    "!cat DESCRIPTION.md"
   ]
  },
  {
   "cell_type": "markdown",
   "metadata": {},
   "source": [
    "4- Con nuestro flamante paquete ya descripto por el `setup.py`, y en caso de que no lo hubieramos hecho, podemos iniciar un repositorio local con el comando `git init`.  \n",
    "Añadimos un archivo `.gitignore` para no versionar en el repositorio archivos innecesarios que haga crecer su tamaño.  \n",
    "Si se trabajó dentro de un virtual environment también hay que ignorar su carpeta."
   ]
  },
  {
   "cell_type": "markdown",
   "metadata": {},
   "source": [
    "![image](images/git-init.png)"
   ]
  },
  {
   "cell_type": "markdown",
   "metadata": {},
   "source": [
    "Generalmente los paquetes de Python están compuestos de módulos y funciones, no suele haber notebooks de Jupyter. En este caso la incluimos solo para fines didacticos. Una vez que commiteamos la primera \n",
    "Con el repositorio completo, veamos ahora como distribuirlo.\n",
    "\n",
    "## 1.3. Distribuyendo el código vía GitHub\n",
    "Una vez que el paquete está creado, podemos usar un repositorio de GitHub para su distribución.\n",
    "Primero creamos el repositorio en cualquier plataforma que soporte Git como GitHub o BitBucket, luego agregamos los archivos asegurándonos de ignorar los archivos innecesarios para finalmente hacer el push al repositorio.\n",
    "<prints de GitHub>\n",
    "\n",
    "### pip install\n",
    "Copiamos la URL del repositorio y en una terminal podemos hacer la instalación mediante pip con el siguiente comando:\n",
    "`pip install git+https://github.com/mike-huls/toolbox.git`\n",
    "Se puede hacer instalaciones tanto desde repositorios públicos como privados.\n",
    "\n",
    "### Actualizando el paquete\n",
    "Si uno de nuestros compañeros agrega una nueva función y decide commitearla a nuestro repositorio, podemos usar pip para actualizar el paquete. Cada vez que se haga la llamada:\n",
    "`pip install git+https://github.com/mike-huls/toolbox.git`\n",
    "pip va a chequear la versión en el archivo `setup.py` local contra la del repositorio, si hay un incremento de la misma, se va a actualizar la versión local.\n",
    "\n",
    "## 1.4 Conclusiones\n",
    "Como hemos podido ver, combinando el poder de empaquetado de Python junto con Git tenemos las siguientes ventajas:\n",
    "- Fácil distribución, instalación y actualización desde una sola fuente central (una fuente de verdad)\n",
    "- Control de versiones de nuestro paquete y poder colaborar con otros desarrolladores.\n",
    "- Actualizar el paquete cuando se modifica y que nuestros usuarios puedan ser notificados del cambio.\n",
    "- Poder instalar con pip y actualizar paquetes desde un repositorio privado."
   ]
  },
  {
   "cell_type": "code",
   "execution_count": null,
   "metadata": {},
   "outputs": [],
   "source": []
  }
 ],
 "metadata": {
  "kernelspec": {
   "display_name": "Python 3 (ipykernel)",
   "language": "python",
   "name": "python3"
  },
  "language_info": {
   "codemirror_mode": {
    "name": "ipython",
    "version": 3
   },
   "file_extension": ".py",
   "mimetype": "text/x-python",
   "name": "python",
   "nbconvert_exporter": "python",
   "pygments_lexer": "ipython3",
   "version": "3.7.6"
  }
 },
 "nbformat": 4,
 "nbformat_minor": 4
}
